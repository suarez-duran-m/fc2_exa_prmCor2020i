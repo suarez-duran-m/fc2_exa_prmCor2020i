{
 "cells": [
  {
   "cell_type": "markdown",
   "metadata": {},
   "source": [
    "# Exámen Física computacional II (2020-I)"
   ]
  },
  {
   "cell_type": "markdown",
   "metadata": {},
   "source": [
    "## Primera parte: interpretación de los momentos de una distribución para un conjunto de datos"
   ]
  },
  {
   "cell_type": "markdown",
   "metadata": {},
   "source": [
    "El conjunto de datos que debe interpretar está almacenado en el archivo *planets_2020.04.13_08.06.56.tab*. Este archivo contiene información sobre explanetas que han sido descubiertos. Estos datos han sido descargados del *NASA Exoplanet Archive* (*https://exoplanetarchive.ipac.caltech.edu/cgi-bin/TblView/nph-tblView?app=ExoTbls&config=planets*)."
   ]
  },
  {
   "cell_type": "markdown",
   "metadata": {},
   "source": [
    "La estructura del archivo *planets_2020.04.13_08.06.56.tab* está dada por filas y columnas, donde cada fila corresponde a la información de un exoplaneta, y las columnas están organizadas de la siguiente manera:\n",
    "\n",
    "pl_orbper  pl_orbsmax  pl_orbeccen pl_orbincl  pl_bmassj pl_radj pl_dens st_dist st_teff st_mass st_rad\n",
    "\n",
    "donde:\n",
    "\n",
    "- **pl_orbper**: período orbital\n",
    "\n",
    "- **pl_orbsmax**: distancia orbital del semi-eje mayor\n",
    "\n",
    "- **pl_orbeccen**: excentricidad\n",
    "\n",
    "- **pl_orbincl**: ángulo de inclinación\n",
    "\n",
    "- **pl_bmassj**: masa del planeta; en unidades de la masa de Júpiter\n",
    "\n",
    "- **pl_radj**: radio del planeta; en unidades del radio de Júpiter\n",
    "\n",
    "- **pl_dens**: densidad del plante; en unidades de la densidad de Júpiter\n",
    "\n",
    "- **st_dist**: distancia desde la Tierra; en unidades de parsec\n",
    "\n",
    "- **st_teff**: temperatura efectiva de la estrella; en unidades de K\n",
    "\n",
    "- **st_mass**: masa de la estrella; en unidades de masa solar\n",
    "\n",
    "- **st_rad**: radio de la estretlla; en unidades de radio solar"
   ]
  },
  {
   "cell_type": "markdown",
   "metadata": {},
   "source": [
    "El objetivo de este punto del exámen es que realice el análisis estadístico visto en clase (momentos, correlación, covariancia) de las variables (columnas) dadas en el archivo.\n",
    "\n",
    "Los puntos que se tendran en cuenta para evaluar serán las gráficas, análisis y discusión de sus resultados.\n",
    "\n",
    "\n",
    "**Nota**\n",
    "\n",
    "Recuerde que Python es una herramienta y que lo importante es la Física que se puede extraer y/o corroborar de los datos."
   ]
  },
  {
   "cell_type": "markdown",
   "metadata": {},
   "source": [
    "## Segunda parte: análisis de datos del Covi-19 en Colombia "
   ]
  },
  {
   "cell_type": "markdown",
   "metadata": {},
   "source": [
    "En esta segunda parte del exámen, el objetivo es realizar un análisis estadístico sobre los datos reportados por el Instituto Nacional de Salud de Colombia de personas infectadas por Covid-19.\n",
    "\n",
    "Para esto será útil revisar cómo leer archivos CSV usando la libreriá Pandas y cómo convertir estos datos en tipo Array del Numpy, de tal forma que puedan aplicar sus propias librerías; tal y como se expone en:\n",
    "\n",
    "https://github.com/fiscompunipamplona/unidad1_Datos/blob/master/codes/dataPandas.ipynb"
   ]
  },
  {
   "cell_type": "markdown",
   "metadata": {},
   "source": [
    "El archivo que deben utilizar es *Casos1_13abr2020.csv*, que contiene los datos actualizados a las 11:00 am del 13 de abril de 2020.\n",
    "\n",
    "Como criterios de evaluación se tendrá en cuenta las variables que analice (casos por departamente, por ciudad, fallecidos, recuperados, etc), el tipo de análisis aplicado (distribuciones, momentos, correlaciones, etc) y la interpretacion y discución de sus resultados."
   ]
  }
 ],
 "metadata": {
  "kernelspec": {
   "display_name": "Python 3",
   "language": "python",
   "name": "python3"
  },
  "language_info": {
   "codemirror_mode": {
    "name": "ipython",
    "version": 3
   },
   "file_extension": ".py",
   "mimetype": "text/x-python",
   "name": "python",
   "nbconvert_exporter": "python",
   "pygments_lexer": "ipython3",
   "version": "3.5.2"
  }
 },
 "nbformat": 4,
 "nbformat_minor": 2
}
